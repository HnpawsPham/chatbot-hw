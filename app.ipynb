{
 "cells": [
  {
   "cell_type": "code",
   "execution_count": 29,
   "id": "9fa48d7c",
   "metadata": {},
   "outputs": [],
   "source": [
    "import os, json\n",
    "import pandas as pd\n",
    "import streamlit as st\n",
    "from dotenv import load_dotenv\n",
    "import google.generativeai as genai "
   ]
  },
  {
   "cell_type": "code",
   "execution_count": 2,
   "id": "dc29edcf",
   "metadata": {},
   "outputs": [],
   "source": [
    "load_dotenv()\n",
    "API = os.getenv(\"API\")\n",
    "genai.configure(api_key=API)"
   ]
  },
  {
   "cell_type": "markdown",
   "id": "5bcfbe1f",
   "metadata": {},
   "source": [
    "LOAD CONFIG"
   ]
  },
  {
   "cell_type": "code",
   "execution_count": 4,
   "id": "fb48c43f",
   "metadata": {},
   "outputs": [],
   "source": [
    "with open(\"config.json\", 'r', encoding=\"utf-8\") as f:\n",
    "    config = json.load(f)\n",
    "\n",
    "    funcs = config.get(\"function\", \"giới thiệu nhà hàng\")\n",
    "    initial_message = config.get(\"initial_bot_message\", \"Tôi có thể giúp bạn điều gì?\")"
   ]
  },
  {
   "cell_type": "code",
   "execution_count": null,
   "id": "b61c0ede",
   "metadata": {},
   "outputs": [
    {
     "data": {
      "text/plain": [
       "'Gỏi Cuốn,Phở Việt Nam,Cơm Tấm,Bún Bò,Khoai Tây Chiên'"
      ]
     },
     "execution_count": 7,
     "metadata": {},
     "output_type": "execute_result"
    }
   ],
   "source": [
    "df = pd.read_csv(\"menu.csv\")\n",
    "df"
   ]
  },
  {
   "cell_type": "code",
   "execution_count": 30,
   "id": "1cc85cd2",
   "metadata": {},
   "outputs": [],
   "source": [
    "model = genai.GenerativeModel(\"gemini-1.5-flash\",\n",
    "                            system_instruction=f\"\"\"Bạn tên là MenuBot, nhiệm vụ của bạn là đưa\n",
    "                            ra menu dưới dạng bảng |Tên món ăn|Mô tả|Nguyên liệu|Ghi chú|\n",
    "                            Trong menu gồm {','.join(df[\"name\"])}\n",
    "                            Bạn hãy format sao cho bảng được đẹp và thẳng hàng nhất có thể\n",
    "                            Độ dài của mỗi cột là độ dài của thành phần dài nhất, không được lệch\n",
    "                            Nếu mô tả và nguyên liệu tối đa 5 từ, quá dài hãy format cho xuống dòng\n",
    "                            Giữa mỗi hàng có kẻ ngang dạng bảng, phải dài bằng độ dài cột\n",
    "                            \"\"\")"
   ]
  },
  {
   "cell_type": "code",
   "execution_count": 27,
   "id": "b8c7e62e",
   "metadata": {},
   "outputs": [
    {
     "data": {
      "text/plain": [
       "'| Tên             | Mô tả                                  | Nguyên liệu                                                     | Ghi chú      |\\n|-----------------|------------------------------------------|-----------------------------------------------------------------|---------------|\\n| **Gỏi Cuốn**     | Gỏi cuốn tươi ngon, kèm nước chấm     | Bánh tráng, thịt heo, tôm, rau sống, bún, nước chấm             |               |\\n|-----------------|------------------------------------------|-----------------------------------------------------------------|---------------|\\n| **Phở Việt Nam** | Phở bò thơm ngon, nước dùng đậm đà    | Bò, bún, hành tây, rau thơm, nước dùng, gia vị                  | Có nhiều loại |\\n|-----------------|------------------------------------------|-----------------------------------------------------------------|---------------|\\n| **Cơm Tấm**      | Cơm tấm sườn bì chả, đậm đà hương vị | Cơm tấm, sườn nướng, bì, chả, mỡ hành, nước mắm, dưa leo, khế |               |\\n|-----------------|------------------------------------------|-----------------------------------------------------------------|---------------|\\n| **Bún Bò Huế**   | Bún bò cay nồng, đậm đà hương vị Huế | Bún, bò, xương heo, nước mắm, sả, ớt, rau sống                  |               |\\n|-----------------|------------------------------------------|-----------------------------------------------------------------|---------------|\\n| **Khoai Tây Chiên** | Khoai tây chiên giòn rụm             | Khoai tây, dầu ăn, gia vị                                       |               |\\n\\n'"
      ]
     },
     "execution_count": 27,
     "metadata": {},
     "output_type": "execute_result"
    }
   ],
   "source": [
    "prompt = \"Show me the menu\"\n",
    "response = model.generate_content(prompt)\n",
    "response.text"
   ]
  },
  {
   "cell_type": "code",
   "execution_count": 28,
   "id": "622d1077",
   "metadata": {},
   "outputs": [],
   "source": [
    "with open(\"output.txt\", 'w', encoding=\"utf-8\") as f:\n",
    "    f.writelines(response.text)"
   ]
  }
 ],
 "metadata": {
  "kernelspec": {
   "display_name": "Python 3",
   "language": "python",
   "name": "python3"
  },
  "language_info": {
   "codemirror_mode": {
    "name": "ipython",
    "version": 3
   },
   "file_extension": ".py",
   "mimetype": "text/x-python",
   "name": "python",
   "nbconvert_exporter": "python",
   "pygments_lexer": "ipython3",
   "version": "3.12.1"
  }
 },
 "nbformat": 4,
 "nbformat_minor": 5
}
